{
  "cells": [
    {
      "cell_type": "markdown",
      "metadata": {
        "id": "f9FIiY1F4rJs"
      },
      "source": [
        "# LLM Finetuning using AutoTrain Advanced\n",
        "\n",
        "In this notebook, we will finetune a llama-3.2-1b-instruct model using AutoTrain Advanced.\n",
        "You can replace the model with any Hugging Face transformers compatible model and dataset with any other dataset in proper formatting.\n",
        "For dataset formatting, please take a look at [docs](https://huggingface.co/docs/autotrain/index)."
      ]
    },
    {
      "cell_type": "code",
      "source": [
        "!pip install autotrain-advanced"
      ],
      "metadata": {
        "id": "nHXpkC6y47E5",
        "outputId": "5df50a4b-033a-4f88-a77a-6826150ceb00",
        "colab": {
          "base_uri": "https://localhost:8080/"
        }
      },
      "execution_count": null,
      "outputs": [
        {
          "output_type": "stream",
          "name": "stdout",
          "text": [
            "Collecting autotrain-advanced\n",
            "  Downloading autotrain_advanced-0.8.36-py3-none-any.whl.metadata (21 kB)\n",
            "Collecting albumentations==1.4.23 (from autotrain-advanced)\n",
            "  Downloading albumentations-1.4.23-py3-none-any.whl.metadata (36 kB)\n",
            "Collecting datasets~=3.2.0 (from datasets[vision]~=3.2.0->autotrain-advanced)\n",
            "  Downloading datasets-3.2.0-py3-none-any.whl.metadata (20 kB)\n",
            "Collecting evaluate==0.4.3 (from autotrain-advanced)\n",
            "  Downloading evaluate-0.4.3-py3-none-any.whl.metadata (9.2 kB)\n",
            "Collecting ipadic==1.0.0 (from autotrain-advanced)\n",
            "  Downloading ipadic-1.0.0.tar.gz (13.4 MB)\n",
            "\u001b[2K     \u001b[90m━━━━━━━━━━━━━━━━━━━━━━━━━━━━━━━━━━━━━━━━\u001b[0m \u001b[32m13.4/13.4 MB\u001b[0m \u001b[31m68.5 MB/s\u001b[0m eta \u001b[36m0:00:00\u001b[0m\n",
            "\u001b[?25h  Preparing metadata (setup.py) ... \u001b[?25l\u001b[?25hdone\n",
            "Collecting jiwer==3.0.5 (from autotrain-advanced)\n",
            "  Downloading jiwer-3.0.5-py3-none-any.whl.metadata (2.7 kB)\n",
            "Collecting joblib==1.4.2 (from autotrain-advanced)\n",
            "  Downloading joblib-1.4.2-py3-none-any.whl.metadata (5.4 kB)\n",
            "Collecting loguru==0.7.3 (from autotrain-advanced)\n",
            "  Downloading loguru-0.7.3-py3-none-any.whl.metadata (22 kB)\n"
          ]
        }
      ]
    },
    {
      "cell_type": "code",
      "execution_count": null,
      "metadata": {
        "id": "7iN2XJDd4rJx"
      },
      "outputs": [],
      "source": [
        "from autotrain.params import LLMTrainingParams\n",
        "from autotrain.project import AutoTrainProject"
      ]
    },
    {
      "cell_type": "code",
      "execution_count": null,
      "metadata": {
        "id": "u7qWiQaA4rJz"
      },
      "outputs": [],
      "source": [
        "HF_USERNAME = \"your_huggingface_username\"\n",
        "HF_TOKEN = \"your_huggingface_write_token\" # get it from https://huggingface.co/settings/token\n",
        "# It is recommended to use secrets or environment variables to store your HF_TOKEN\n",
        "# your token is required if push_to_hub is set to True or if you are accessing a gated model/dataset"
      ]
    },
    {
      "cell_type": "code",
      "execution_count": null,
      "metadata": {
        "id": "YockFp-t4rJz"
      },
      "outputs": [],
      "source": [
        "params = LLMTrainingParams(\n",
        "    model=\"meta-llama/Llama-3.2-1B-Instruct\",\n",
        "    data_path=\"HuggingFaceH4/no_robots\", # path to the dataset on huggingface hub\n",
        "    chat_template=\"tokenizer\", # using the chat template defined in the model's tokenizer\n",
        "    text_column=\"messages\", # the column in the dataset that contains the text\n",
        "    train_split=\"train\",\n",
        "    trainer=\"sft\", # using the SFT trainer, choose from sft, default, orpo, dpo and reward\n",
        "    epochs=3,\n",
        "    batch_size=1,\n",
        "    lr=1e-5,\n",
        "    peft=True, # training LoRA using PEFT\n",
        "    quantization=\"int4\", # using int4 quantization\n",
        "    target_modules=\"all-linear\",\n",
        "    padding=\"right\",\n",
        "    optimizer=\"paged_adamw_8bit\",\n",
        "    scheduler=\"cosine\",\n",
        "    gradient_accumulation=8,\n",
        "    mixed_precision=\"bf16\",\n",
        "    merge_adapter=True,\n",
        "    project_name=\"autotrain-llama32-1b-finetune\",\n",
        "    log=\"tensorboard\",\n",
        "    push_to_hub=True,\n",
        "    username=HF_USERNAME,\n",
        "    token=HF_TOKEN,\n",
        ")"
      ]
    },
    {
      "cell_type": "markdown",
      "metadata": {
        "id": "Vxcc4Pkd4rJ0"
      },
      "source": [
        "If your dataset is in CSV / JSONL format (JSONL is most preferred) and is stored locally, make the following changes to `params`:\n",
        "\n",
        "```python\n",
        "params = LLMTrainingParams(\n",
        "    data_path=\"data/\", # this is the path to folder where train.jsonl/train.csv is located\n",
        "    text_column=\"text\", # this is the column name in the CSV/JSONL file which contains the text\n",
        "    train_split = \"train\" # this is the filename without extension\n",
        "    .\n",
        "    .\n",
        "    .\n",
        ")\n",
        "```"
      ]
    },
    {
      "cell_type": "code",
      "execution_count": null,
      "metadata": {
        "id": "YanXwa9H4rJ1"
      },
      "outputs": [],
      "source": [
        "# this will train the model locally\n",
        "project = AutoTrainProject(params=params, backend=\"local\", process=True)\n",
        "project.create()"
      ]
    }
  ],
  "metadata": {
    "kernelspec": {
      "display_name": "autotrain",
      "language": "python",
      "name": "python3"
    },
    "language_info": {
      "codemirror_mode": {
        "name": "ipython",
        "version": 3
      },
      "file_extension": ".py",
      "mimetype": "text/x-python",
      "name": "python",
      "nbconvert_exporter": "python",
      "pygments_lexer": "ipython3",
      "version": "3.10.14"
    },
    "colab": {
      "provenance": []
    }
  },
  "nbformat": 4,
  "nbformat_minor": 0
}